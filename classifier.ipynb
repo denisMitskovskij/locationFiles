{
 "cells": [
  {
   "cell_type": "code",
   "execution_count": 33,
   "metadata": {
    "id": "5O5GFsjfSxRI"
   },
   "outputs": [],
   "source": [
    "import sys\n",
    "import nltk\n",
    "import sklearn\n",
    "import pandas as pd\n",
    "import numpy as np"
   ]
  },
  {
   "cell_type": "code",
   "execution_count": 34,
   "metadata": {
    "id": "bghIzfkhSxRL",
    "outputId": "4a1766be-7763-4f75-c898-9187e04d7f46"
   },
   "outputs": [
    {
     "data": {
      "text/html": [
       "<div>\n",
       "<style scoped>\n",
       "    .dataframe tbody tr th:only-of-type {\n",
       "        vertical-align: middle;\n",
       "    }\n",
       "\n",
       "    .dataframe tbody tr th {\n",
       "        vertical-align: top;\n",
       "    }\n",
       "\n",
       "    .dataframe thead th {\n",
       "        text-align: right;\n",
       "    }\n",
       "</style>\n",
       "<table border=\"1\" class=\"dataframe\">\n",
       "  <thead>\n",
       "    <tr style=\"text-align: right;\">\n",
       "      <th></th>\n",
       "      <th>cap</th>\n",
       "      <th>location</th>\n",
       "    </tr>\n",
       "  </thead>\n",
       "  <tbody>\n",
       "    <tr>\n",
       "      <th>0</th>\n",
       "      <td>It's a little eerie.</td>\n",
       "      <td>['room']</td>\n",
       "    </tr>\n",
       "    <tr>\n",
       "      <th>1</th>\n",
       "      <td>It just sits there and collects rainwater.</td>\n",
       "      <td>['room']</td>\n",
       "    </tr>\n",
       "    <tr>\n",
       "      <th>2</th>\n",
       "      <td>I wanted to get out, but I couldn't because th...</td>\n",
       "      <td>['room']</td>\n",
       "    </tr>\n",
       "    <tr>\n",
       "      <th>3</th>\n",
       "      <td>The barriers were featureless and the floor wa...</td>\n",
       "      <td>['room']</td>\n",
       "    </tr>\n",
       "    <tr>\n",
       "      <th>4</th>\n",
       "      <td>The only sound was the occasional creak from t...</td>\n",
       "      <td>['room']</td>\n",
       "    </tr>\n",
       "  </tbody>\n",
       "</table>\n",
       "</div>"
      ],
      "text/plain": [
       "                                                 cap  location\n",
       "0                               It's a little eerie.  ['room']\n",
       "1         It just sits there and collects rainwater.  ['room']\n",
       "2  I wanted to get out, but I couldn't because th...  ['room']\n",
       "3  The barriers were featureless and the floor wa...  ['room']\n",
       "4  The only sound was the occasional creak from t...  ['room']"
      ]
     },
     "execution_count": 34,
     "metadata": {},
     "output_type": "execute_result"
    }
   ],
   "source": [
    "text_data = pd.read_csv('processed-train.csv', encoding='utf-8')\n",
    "text_data.head()"
   ]
  },
  {
   "cell_type": "code",
   "execution_count": 35,
   "metadata": {
    "id": "SRWPLc_WSxRM",
    "outputId": "8a90b7b3-95d4-411b-ebc9-a4f5682e4c58"
   },
   "outputs": [
    {
     "name": "stdout",
     "output_type": "stream",
     "text": [
      "<class 'pandas.core.frame.DataFrame'>\n",
      "RangeIndex: 49186 entries, 0 to 49185\n",
      "Data columns (total 2 columns):\n",
      " #   Column    Non-Null Count  Dtype \n",
      "---  ------    --------------  ----- \n",
      " 0   cap       49186 non-null  object\n",
      " 1   location  49186 non-null  object\n",
      "dtypes: object(2)\n",
      "memory usage: 768.7+ KB\n"
     ]
    }
   ],
   "source": [
    "text_data.info()"
   ]
  },
  {
   "cell_type": "code",
   "execution_count": 36,
   "metadata": {
    "id": "qPw-VtM3SxRM",
    "outputId": "bbfd5ace-28d3-430d-c70b-cd2a439aedd4"
   },
   "outputs": [
    {
     "data": {
      "text/plain": [
       "Beyond lay another dull wilderness of bricks and mortar, its silence broken only by the heavy, regular footfall of the policeman, or the songs and shouts of some belated party of revellers.                                                                                                                                                                                                                                                                                                                                                                                                                                                                               7\n",
       "Imagine, then, my thrill of terror when last night, as I lay awake, thinking over her terrible fate, I suddenly heard in the silence of the night the low whistle which had been the herald of her own death.                                                                                                                                                                                                                                                                                                                                                                                                                                                               6\n",
       "My dear Boris, said the mother, drawing her hand from beneath her old mantle and laying it timidly and tenderly on her son's arm, be affectionate and attentive to him.                                                                                                                                                                                                                                                                                                                                                                                                                                                                                                     6\n",
       "In the carriages, the caleche, and the phaeton, all crossed themselves as they passed the church opposite the house.                                                                                                                                                                                                                                                                                                                                                                                                                                                                                                                                                        5\n",
       "2.                                                                                                                                                                                                                                                                                                                                                                                                                                                                                                                                                                                                                                                                          5\n",
       "                                                                                                                                                                                                                                                                                                                                                                                                                                                                                                                                                                                                                                                                           ..\n",
       "It can be used to generate new ideas, to communicate with others, and to organize information.                                                                                                                                                                                                                                                                                                                                                                                                                                                                                                                                                                              1\n",
       "It can be used to generate new ideas, to build new products, and to improve existing ones.                                                                                                                                                                                                                                                                                                                                                                                                                                                                                                                                                                                  1\n",
       "It can be used to generate new ideas, to promote your business, or to simply get some exercise.                                                                                                                                                                                                                                                                                                                                                                                                                                                                                                                                                                             1\n",
       "It can be used to generate new ideas, to communicate with others, and to help people find information.                                                                                                                                                                                                                                                                                                                                                                                                                                                                                                                                                                      1\n",
       "Alicia lost her family two years ago. She needed money, so she found a job at a local bistro. She met Nick there. Nick was a very charismatic, handsome and funny guy. They fell in love and when Nick finished school, they got married. When Nick loose his father he will change completelly. The sadness of unexpected death of his healthy dad bring him to the dark place of his soul. The tale about two wolfs telling that in everyone of us are they two wolfs. One is good the second is bad. The bad wolf represents darkness. They are fighting everyday. But who is gonna win is our choice.  The wolf we feed will win. And Nick choosed feed the bad wolf    1\n",
       "Name: cap, Length: 48162, dtype: int64"
      ]
     },
     "execution_count": 36,
     "metadata": {},
     "output_type": "execute_result"
    }
   ],
   "source": [
    "text_data['cap'].value_counts()"
   ]
  },
  {
   "cell_type": "code",
   "execution_count": 37,
   "metadata": {
    "id": "NKhWoAf9SxRN",
    "outputId": "03f2e062-b62d-4c78-fe91-c531580a4cfd"
   },
   "outputs": [
    {
     "name": "stdout",
     "output_type": "stream",
     "text": [
      "[473 473 473 473 473 473 473 473 473 473]\n",
      "0                                 It's a little eerie.\n",
      "1           It just sits there and collects rainwater.\n",
      "2    I wanted to get out, but I couldn't because th...\n",
      "3    The barriers were featureless and the floor wa...\n",
      "4    The only sound was the occasional creak from t...\n",
      "5    The only sound was the ticking of the clock on...\n",
      "6    The barriers were a dull gray, the floor a col...\n",
      "7    The barriers are a light blue color and the fl...\n",
      "8    The only light came from the small window at t...\n",
      "9    The barriers were plateau and there was nothin...\n",
      "Name: cap, dtype: object\n"
     ]
    }
   ],
   "source": [
    "from sklearn.preprocessing import LabelEncoder\n",
    "\n",
    "enc = LabelEncoder()\n",
    "label = enc.fit_transform(text_data['location'])\n",
    "print(label[:10])\n",
    "print(text_data['cap'][:10])"
   ]
  },
  {
   "cell_type": "code",
   "execution_count": 38,
   "metadata": {
    "id": "Zzn0qXoySxRO",
    "outputId": "39012413-7e12-41d0-ca57-1182f9ee99a7"
   },
   "outputs": [
    {
     "data": {
      "text/plain": [
       "0                                 It's a little eerie.\n",
       "1           It just sits there and collects rainwater.\n",
       "2    I wanted to get out, but I couldn't because th...\n",
       "3    The barriers were featureless and the floor wa...\n",
       "4    The only sound was the occasional creak from t...\n",
       "5    The only sound was the ticking of the clock on...\n",
       "6    The barriers were a dull gray, the floor a col...\n",
       "7    The barriers are a light blue color and the fl...\n",
       "8    The only light came from the small window at t...\n",
       "9    The barriers were plateau and there was nothin...\n",
       "Name: cap, dtype: object"
      ]
     },
     "execution_count": 38,
     "metadata": {},
     "output_type": "execute_result"
    }
   ],
   "source": [
    "text = text_data['cap']\n",
    "text[:10]"
   ]
  },
  {
   "cell_type": "code",
   "execution_count": 39,
   "metadata": {
    "id": "VCCXkSnSSxRP"
   },
   "outputs": [
    {
     "name": "stderr",
     "output_type": "stream",
     "text": [
      "<ipython-input-39-a6c6542cb218>:1: FutureWarning: The default value of regex will change from True to False in a future version.\n",
      "  processed = text.str.replace(r'[^\\w\\d\\s]', ' ')\n",
      "<ipython-input-39-a6c6542cb218>:2: FutureWarning: The default value of regex will change from True to False in a future version.\n",
      "  processed = processed.str.replace(r'\\s+', ' ')\n",
      "<ipython-input-39-a6c6542cb218>:3: FutureWarning: The default value of regex will change from True to False in a future version.\n",
      "  processed = processed.str.replace(r'^\\s+|\\s+?$', '')\n"
     ]
    }
   ],
   "source": [
    "processed = text.str.replace(r'[^\\w\\d\\s]', ' ')\n",
    "processed = processed.str.replace(r'\\s+', ' ')\n",
    "processed = processed.str.replace(r'^\\s+|\\s+?$', '')"
   ]
  },
  {
   "cell_type": "code",
   "execution_count": 40,
   "metadata": {
    "id": "jgI7z6-WSxRQ",
    "outputId": "4e335b7a-5faf-4115-9a7c-4e04dfcd912e"
   },
   "outputs": [
    {
     "data": {
      "text/plain": [
       "0                                      it s a little eerie\n",
       "1                it just sits there and collects rainwater\n",
       "2        i wanted to get out but i couldn t because the...\n",
       "3        the barriers were featureless and the floor wa...\n",
       "4        the only sound was the occasional creak from t...\n",
       "                               ...                        \n",
       "49181    an eleven year old male child his road to hapi...\n",
       "49182    grace runs away from her evil mother she has n...\n",
       "49183    the night of the funeral changes everything fo...\n",
       "49184    the boy ran away but got lost he accidentally ...\n",
       "49185    alicia lost her family two years ago she neede...\n",
       "Name: cap, Length: 49186, dtype: object"
      ]
     },
     "execution_count": 40,
     "metadata": {},
     "output_type": "execute_result"
    }
   ],
   "source": [
    "processed = processed.str.lower()\n",
    "processed"
   ]
  },
  {
   "cell_type": "code",
   "execution_count": 41,
   "metadata": {
    "id": "MXQjYFyoSxRR"
   },
   "outputs": [
    {
     "name": "stderr",
     "output_type": "stream",
     "text": [
      "[nltk_data] Downloading package stopwords to\n",
      "[nltk_data]     C:\\Users\\IMHost\\AppData\\Roaming\\nltk_data...\n",
      "[nltk_data]   Package stopwords is already up-to-date!\n"
     ]
    }
   ],
   "source": [
    "from nltk.corpus import stopwords\n",
    "nltk.download('stopwords')\n",
    "\n",
    "stop_words = set(stopwords.words('english'))\n",
    "\n",
    "processed = processed.apply(lambda x: ' '.join(term for term in x.split() if term not in stop_words))"
   ]
  },
  {
   "cell_type": "code",
   "execution_count": 42,
   "metadata": {
    "id": "2xu4VHmnSxRR"
   },
   "outputs": [],
   "source": [
    "ps = nltk.PorterStemmer()\n",
    "\n",
    "processed = processed.apply(lambda x: ' '.join(ps.stem(term) for term in x.split()))"
   ]
  },
  {
   "cell_type": "code",
   "execution_count": 43,
   "metadata": {
    "id": "1RgD-Lb5SxRR",
    "outputId": "4a784060-fa1f-447d-d9ad-bba3213cc7b4"
   },
   "outputs": [
    {
     "data": {
      "text/plain": [
       "0                                               littl eeri\n",
       "1                                      sit collect rainwat\n",
       "2                                       want get door lock\n",
       "3              barrier featureless floor cold hard concret\n",
       "4                            sound occasion creak age wood\n",
       "                               ...                        \n",
       "49181            eleven year old male child road hapi hard\n",
       "49182    grace run away evil mother father support wand...\n",
       "49183    night funer chang everyth ingrid smith 25 year...\n",
       "49184    boy ran away got lost accident found undergrou...\n",
       "49185    alicia lost famili two year ago need money fou...\n",
       "Name: cap, Length: 49186, dtype: object"
      ]
     },
     "execution_count": 43,
     "metadata": {},
     "output_type": "execute_result"
    }
   ],
   "source": [
    "processed"
   ]
  },
  {
   "cell_type": "code",
   "execution_count": 44,
   "metadata": {
    "id": "oPG8B0UkSxRS",
    "outputId": "1865f911-bb1e-47ca-c981-10f4d1e4cd4a"
   },
   "outputs": [
    {
     "name": "stdout",
     "output_type": "stream",
     "text": [
      "Number of words: 14665\n",
      "Most common words: [('place', 5426), ('peopl', 4184), ('use', 2916), ('great', 2519), ('alway', 2261), ('shine', 2228), ('also', 2189), ('go', 2067), ('one', 1994), ('beauti', 1810), ('mani', 1782), ('get', 1737), ('time', 1675), ('way', 1619), ('see', 1568)]\n"
     ]
    }
   ],
   "source": [
    "from nltk.tokenize import word_tokenize\n",
    "\n",
    "all_words = []\n",
    "\n",
    "for message in processed:\n",
    "    words = word_tokenize(message)\n",
    "    for w in words:\n",
    "        all_words.append(w)\n",
    "        \n",
    "all_words = nltk.FreqDist(all_words)\n",
    "\n",
    "# Print the result\n",
    "print('Number of words: {}'.format(len(all_words)))\n",
    "print('Most common words: {}'.format(all_words.most_common(15)))"
   ]
  },
  {
   "cell_type": "code",
   "execution_count": 45,
   "metadata": {
    "id": "LG6vhZgkSxRS"
   },
   "outputs": [],
   "source": [
    "# use the 1500 most common words as features\n",
    "word_features = [x[0] for x in all_words.most_common(1500)]"
   ]
  },
  {
   "cell_type": "code",
   "execution_count": 46,
   "metadata": {
    "id": "S4copsTcSxRS"
   },
   "outputs": [],
   "source": [
    "def find_features(message):\n",
    "    words = word_tokenize(message)\n",
    "    features = {}\n",
    "    for word in word_features:\n",
    "        features[word] = (word in words)\n",
    "\n",
    "    return features"
   ]
  },
  {
   "cell_type": "code",
   "execution_count": 47,
   "metadata": {
    "id": "sqVE4IirSxRS",
    "outputId": "26912e81-7a9d-41d6-ac2d-ac4e24aa4bc8"
   },
   "outputs": [
    {
     "name": "stdout",
     "output_type": "stream",
     "text": [
      "littl\n"
     ]
    }
   ],
   "source": [
    "features = find_features(processed[0])\n",
    "for key, value in features.items():\n",
    "    if value == True:\n",
    "        print(key)"
   ]
  },
  {
   "cell_type": "code",
   "execution_count": 48,
   "metadata": {
    "id": "XDe9soMxSxRT",
    "outputId": "83126104-0d35-4cc1-a6ad-e6a9b200dbc4"
   },
   "outputs": [
    {
     "data": {
      "text/plain": [
       "[('place', False),\n",
       " ('peopl', False),\n",
       " ('use', False),\n",
       " ('great', False),\n",
       " ('alway', False),\n",
       " ('shine', False),\n",
       " ('also', False),\n",
       " ('go', False),\n",
       " ('one', False),\n",
       " ('beauti', False)]"
      ]
     },
     "execution_count": 48,
     "metadata": {},
     "output_type": "execute_result"
    }
   ],
   "source": [
    "list(features.items())[:10]"
   ]
  },
  {
   "cell_type": "code",
   "execution_count": 50,
   "metadata": {
    "id": "2wCF8WlUSxRT"
   },
   "outputs": [],
   "source": [
    "messages = list(zip(processed, label))\n",
    "\n",
    "np.random.seed(1)\n",
    "np.random.shuffle(messages)\n",
    "\n",
    "# Call find_features function for each text_data message\n",
    "feature_set = [(find_features(text), label) for (text, label) in messages]"
   ]
  },
  {
   "cell_type": "code",
   "execution_count": 51,
   "metadata": {
    "id": "MoOl83GSSxRT"
   },
   "outputs": [],
   "source": [
    "from sklearn.model_selection import train_test_split\n",
    "\n",
    "training, test = train_test_split(feature_set, test_size=0.25, random_state=1)"
   ]
  },
  {
   "cell_type": "code",
   "execution_count": 52,
   "metadata": {
    "id": "ugzbPs6ESxRT",
    "outputId": "0319ad74-b636-43e5-a0e5-a2850717fff0"
   },
   "outputs": [
    {
     "name": "stdout",
     "output_type": "stream",
     "text": [
      "36889\n",
      "12297\n"
     ]
    }
   ],
   "source": [
    "print(len(training))\n",
    "print(len(test))"
   ]
  },
  {
   "cell_type": "code",
   "execution_count": 53,
   "metadata": {
    "id": "F5D0RKpZSxRT",
    "outputId": "384dc2ad-a4e8-4ebb-d4dd-e6386921519d"
   },
   "outputs": [
    {
     "ename": "KeyboardInterrupt",
     "evalue": "",
     "output_type": "error",
     "traceback": [
      "\u001B[1;31m---------------------------------------------------------------------------\u001B[0m",
      "\u001B[1;31mKeyboardInterrupt\u001B[0m                         Traceback (most recent call last)",
      "\u001B[1;32m<ipython-input-53-cca08e71993f>\u001B[0m in \u001B[0;36m<module>\u001B[1;34m\u001B[0m\n\u001B[0;32m     25\u001B[0m \u001B[1;32mfor\u001B[0m \u001B[0mname\u001B[0m\u001B[1;33m,\u001B[0m \u001B[0mmodel\u001B[0m \u001B[1;32min\u001B[0m \u001B[0mmodels\u001B[0m\u001B[1;33m:\u001B[0m\u001B[1;33m\u001B[0m\u001B[1;33m\u001B[0m\u001B[0m\n\u001B[0;32m     26\u001B[0m     \u001B[0mnltk_model\u001B[0m \u001B[1;33m=\u001B[0m \u001B[0mSklearnClassifier\u001B[0m\u001B[1;33m(\u001B[0m\u001B[0mmodel\u001B[0m\u001B[1;33m)\u001B[0m\u001B[1;33m\u001B[0m\u001B[1;33m\u001B[0m\u001B[0m\n\u001B[1;32m---> 27\u001B[1;33m     \u001B[0mnltk_model\u001B[0m\u001B[1;33m.\u001B[0m\u001B[0mtrain\u001B[0m\u001B[1;33m(\u001B[0m\u001B[0mtraining\u001B[0m\u001B[1;33m)\u001B[0m\u001B[1;33m\u001B[0m\u001B[1;33m\u001B[0m\u001B[0m\n\u001B[0m\u001B[0;32m     28\u001B[0m     \u001B[0maccuracy\u001B[0m \u001B[1;33m=\u001B[0m \u001B[0mnltk\u001B[0m\u001B[1;33m.\u001B[0m\u001B[0mclassify\u001B[0m\u001B[1;33m.\u001B[0m\u001B[0maccuracy\u001B[0m\u001B[1;33m(\u001B[0m\u001B[0mnltk_model\u001B[0m\u001B[1;33m,\u001B[0m \u001B[0mtest\u001B[0m\u001B[1;33m)\u001B[0m\u001B[1;33m\u001B[0m\u001B[1;33m\u001B[0m\u001B[0m\n\u001B[0;32m     29\u001B[0m     \u001B[0mprint\u001B[0m\u001B[1;33m(\u001B[0m\u001B[1;34m\"{} model Accuracy: {}\"\u001B[0m\u001B[1;33m.\u001B[0m\u001B[0mformat\u001B[0m\u001B[1;33m(\u001B[0m\u001B[0mname\u001B[0m\u001B[1;33m,\u001B[0m \u001B[0maccuracy\u001B[0m\u001B[1;33m)\u001B[0m\u001B[1;33m)\u001B[0m\u001B[1;33m\u001B[0m\u001B[1;33m\u001B[0m\u001B[0m\n",
      "\u001B[1;32m~\\anaconda3\\lib\\site-packages\\nltk\\classify\\scikitlearn.py\u001B[0m in \u001B[0;36mtrain\u001B[1;34m(self, labeled_featuresets)\u001B[0m\n\u001B[0;32m    110\u001B[0m \u001B[1;33m\u001B[0m\u001B[0m\n\u001B[0;32m    111\u001B[0m         \u001B[0mX\u001B[0m\u001B[1;33m,\u001B[0m \u001B[0my\u001B[0m \u001B[1;33m=\u001B[0m \u001B[0mlist\u001B[0m\u001B[1;33m(\u001B[0m\u001B[0mzip\u001B[0m\u001B[1;33m(\u001B[0m\u001B[1;33m*\u001B[0m\u001B[0mlabeled_featuresets\u001B[0m\u001B[1;33m)\u001B[0m\u001B[1;33m)\u001B[0m\u001B[1;33m\u001B[0m\u001B[1;33m\u001B[0m\u001B[0m\n\u001B[1;32m--> 112\u001B[1;33m         \u001B[0mX\u001B[0m \u001B[1;33m=\u001B[0m \u001B[0mself\u001B[0m\u001B[1;33m.\u001B[0m\u001B[0m_vectorizer\u001B[0m\u001B[1;33m.\u001B[0m\u001B[0mfit_transform\u001B[0m\u001B[1;33m(\u001B[0m\u001B[0mX\u001B[0m\u001B[1;33m)\u001B[0m\u001B[1;33m\u001B[0m\u001B[1;33m\u001B[0m\u001B[0m\n\u001B[0m\u001B[0;32m    113\u001B[0m         \u001B[0my\u001B[0m \u001B[1;33m=\u001B[0m \u001B[0mself\u001B[0m\u001B[1;33m.\u001B[0m\u001B[0m_encoder\u001B[0m\u001B[1;33m.\u001B[0m\u001B[0mfit_transform\u001B[0m\u001B[1;33m(\u001B[0m\u001B[0my\u001B[0m\u001B[1;33m)\u001B[0m\u001B[1;33m\u001B[0m\u001B[1;33m\u001B[0m\u001B[0m\n\u001B[0;32m    114\u001B[0m         \u001B[0mself\u001B[0m\u001B[1;33m.\u001B[0m\u001B[0m_clf\u001B[0m\u001B[1;33m.\u001B[0m\u001B[0mfit\u001B[0m\u001B[1;33m(\u001B[0m\u001B[0mX\u001B[0m\u001B[1;33m,\u001B[0m \u001B[0my\u001B[0m\u001B[1;33m)\u001B[0m\u001B[1;33m\u001B[0m\u001B[1;33m\u001B[0m\u001B[0m\n",
      "\u001B[1;32m~\\anaconda3\\lib\\site-packages\\sklearn\\feature_extraction\\_dict_vectorizer.py\u001B[0m in \u001B[0;36mfit_transform\u001B[1;34m(self, X, y)\u001B[0m\n\u001B[0;32m    226\u001B[0m             \u001B[0mFeature\u001B[0m \u001B[0mvectors\u001B[0m\u001B[1;33m;\u001B[0m \u001B[0malways\u001B[0m \u001B[1;36m2\u001B[0m\u001B[1;33m-\u001B[0m\u001B[0md\u001B[0m\u001B[1;33m.\u001B[0m\u001B[1;33m\u001B[0m\u001B[1;33m\u001B[0m\u001B[0m\n\u001B[0;32m    227\u001B[0m         \"\"\"\n\u001B[1;32m--> 228\u001B[1;33m         \u001B[1;32mreturn\u001B[0m \u001B[0mself\u001B[0m\u001B[1;33m.\u001B[0m\u001B[0m_transform\u001B[0m\u001B[1;33m(\u001B[0m\u001B[0mX\u001B[0m\u001B[1;33m,\u001B[0m \u001B[0mfitting\u001B[0m\u001B[1;33m=\u001B[0m\u001B[1;32mTrue\u001B[0m\u001B[1;33m)\u001B[0m\u001B[1;33m\u001B[0m\u001B[1;33m\u001B[0m\u001B[0m\n\u001B[0m\u001B[0;32m    229\u001B[0m \u001B[1;33m\u001B[0m\u001B[0m\n\u001B[0;32m    230\u001B[0m     \u001B[1;32mdef\u001B[0m \u001B[0minverse_transform\u001B[0m\u001B[1;33m(\u001B[0m\u001B[0mself\u001B[0m\u001B[1;33m,\u001B[0m \u001B[0mX\u001B[0m\u001B[1;33m,\u001B[0m \u001B[0mdict_type\u001B[0m\u001B[1;33m=\u001B[0m\u001B[0mdict\u001B[0m\u001B[1;33m)\u001B[0m\u001B[1;33m:\u001B[0m\u001B[1;33m\u001B[0m\u001B[1;33m\u001B[0m\u001B[0m\n",
      "\u001B[1;32m~\\anaconda3\\lib\\site-packages\\sklearn\\feature_extraction\\_dict_vectorizer.py\u001B[0m in \u001B[0;36m_transform\u001B[1;34m(self, X, fitting)\u001B[0m\n\u001B[0;32m    164\u001B[0m         \u001B[1;32mfor\u001B[0m \u001B[0mx\u001B[0m \u001B[1;32min\u001B[0m \u001B[0mX\u001B[0m\u001B[1;33m:\u001B[0m\u001B[1;33m\u001B[0m\u001B[1;33m\u001B[0m\u001B[0m\n\u001B[0;32m    165\u001B[0m             \u001B[1;32mfor\u001B[0m \u001B[0mf\u001B[0m\u001B[1;33m,\u001B[0m \u001B[0mv\u001B[0m \u001B[1;32min\u001B[0m \u001B[0mx\u001B[0m\u001B[1;33m.\u001B[0m\u001B[0mitems\u001B[0m\u001B[1;33m(\u001B[0m\u001B[1;33m)\u001B[0m\u001B[1;33m:\u001B[0m\u001B[1;33m\u001B[0m\u001B[1;33m\u001B[0m\u001B[0m\n\u001B[1;32m--> 166\u001B[1;33m                 \u001B[1;32mif\u001B[0m \u001B[0misinstance\u001B[0m\u001B[1;33m(\u001B[0m\u001B[0mv\u001B[0m\u001B[1;33m,\u001B[0m \u001B[0mstr\u001B[0m\u001B[1;33m)\u001B[0m\u001B[1;33m:\u001B[0m\u001B[1;33m\u001B[0m\u001B[1;33m\u001B[0m\u001B[0m\n\u001B[0m\u001B[0;32m    167\u001B[0m                     \u001B[0mf\u001B[0m \u001B[1;33m=\u001B[0m \u001B[1;34m\"%s%s%s\"\u001B[0m \u001B[1;33m%\u001B[0m \u001B[1;33m(\u001B[0m\u001B[0mf\u001B[0m\u001B[1;33m,\u001B[0m \u001B[0mself\u001B[0m\u001B[1;33m.\u001B[0m\u001B[0mseparator\u001B[0m\u001B[1;33m,\u001B[0m \u001B[0mv\u001B[0m\u001B[1;33m)\u001B[0m\u001B[1;33m\u001B[0m\u001B[1;33m\u001B[0m\u001B[0m\n\u001B[0;32m    168\u001B[0m                     \u001B[0mv\u001B[0m \u001B[1;33m=\u001B[0m \u001B[1;36m1\u001B[0m\u001B[1;33m\u001B[0m\u001B[1;33m\u001B[0m\u001B[0m\n",
      "\u001B[1;31mKeyboardInterrupt\u001B[0m: "
     ]
    }
   ],
   "source": [
    "from nltk.classify.scikitlearn import SklearnClassifier\n",
    "from sklearn.neighbors import KNeighborsClassifier\n",
    "from sklearn.tree import DecisionTreeClassifier\n",
    "from sklearn.naive_bayes import MultinomialNB\n",
    "\n",
    "names = ['K Nearest Neighbors', 'Decision Tree', 'Naive Bayes']\n",
    "\n",
    "classifiers = [\n",
    "    KNeighborsClassifier(),\n",
    "    DecisionTreeClassifier(),\n",
    "    MultinomialNB()\n",
    "]\n",
    "\n",
    "models = zip(names, classifiers)\n",
    "\n",
    "for name, model in models:\n",
    "    nltk_model = SklearnClassifier(model)\n",
    "    nltk_model.train(training)\n",
    "    accuracy = nltk.classify.accuracy(nltk_model, test)\n",
    "    print(\"{} model Accuracy: {}\".format(name, accuracy))"
   ]
  },
  {
   "cell_type": "markdown",
   "metadata": {
    "pycharm": {
     "name": "#%% md\n"
    }
   },
   "source": [
    "K Nearest Neighbors model Accuracy: 0.3689517768561438 <br>\n",
    "Decision Tree model Accuracy: 0.42408717573391885 <br>\n",
    "Naive Bayes model Accuracy: 0.4424656420265105 <br>"
   ]
  }
 ],
 "metadata": {
  "colab": {
   "name": "2020-10-23-01-Text-Classification-with-NLTK.ipynb",
   "provenance": []
  },
  "kernelspec": {
   "display_name": "Python 3",
   "language": "python",
   "name": "python3"
  },
  "language_info": {
   "codemirror_mode": {
    "name": "ipython",
    "version": 3
   },
   "file_extension": ".py",
   "mimetype": "text/x-python",
   "name": "python",
   "nbconvert_exporter": "python",
   "pygments_lexer": "ipython3",
   "version": "3.8.5"
  }
 },
 "nbformat": 4,
 "nbformat_minor": 1
}